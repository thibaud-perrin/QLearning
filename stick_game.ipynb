{
 "cells": [
  {
   "cell_type": "markdown",
   "id": "3bbe0ad8-6cc0-4fa5-9931-6ea1d80b7ef8",
   "metadata": {},
   "source": [
    "# Apprentissage par renforcement\n",
    "## StickGame Q-Learning\n",
    "This notebook show how use QLearning in a little environment like the stickGame.  \n",
    "**Rules:**  \n",
    "each player takes their turn, and draws between 1 and 3 sticks. the player pulling the last stick loses"
   ]
  },
  {
   "cell_type": "markdown",
   "id": "0d28fdbd-7a3b-4599-9f27-592039ab4d8e",
   "metadata": {},
   "source": [
    "## imports"
   ]
  },
  {
   "cell_type": "code",
   "execution_count": 1,
   "id": "c06c01be-c514-46c1-84ca-b154f8857267",
   "metadata": {
    "tags": []
   },
   "outputs": [],
   "source": [
    "from random import randint\n",
    "from typing import Tuple\n",
    "import random\n",
    "import numpy as np"
   ]
  },
  {
   "cell_type": "code",
   "execution_count": 2,
   "id": "e8436b9e-9b16-4e25-8d93-d0ab8949c741",
   "metadata": {},
   "outputs": [],
   "source": [
    "class StickGame(object):\n",
    "    \"\"\"\n",
    "    A class that represents the Stick Game.\n",
    "\n",
    "    Parameters:\n",
    "    nb (int): Number of sticks to play with.\n",
    "\n",
    "    Attributes:\n",
    "    original_nb (int): The original number of sticks.\n",
    "    nb (int): The current number of sticks in the game.\n",
    "    \"\"\"\n",
    "    def __init__(self, nb: int):\n",
    "        \"\"\"\n",
    "        Initializes a new StickGame object.\n",
    "\n",
    "        Args:\n",
    "        nb (int): Number of sticks to play with.\n",
    "        \"\"\"\n",
    "        super(StickGame, self).__init__()\n",
    "        self.original_nb = nb\n",
    "        self.nb = nb\n",
    "\n",
    "    def is_finished(self) -> bool:\n",
    "        \"\"\"\n",
    "        Checks if the game is over.\n",
    "\n",
    "        Returns:\n",
    "        bool: True if the game is over, False otherwise.\n",
    "        \"\"\"\n",
    "        if self.nb <= 0:\n",
    "            return True\n",
    "        return False\n",
    "\n",
    "    def reset(self) -> int:\n",
    "        \"\"\"\n",
    "        Resets the state of the game.\n",
    "\n",
    "        Returns:\n",
    "        int: The original number of sticks.\n",
    "        \"\"\"\n",
    "        self.nb = self.original_nb\n",
    "        return self.nb\n",
    "\n",
    "    def display(self) -> None:\n",
    "        \"\"\"\n",
    "        Displays the state of the game.\n",
    "        \"\"\"\n",
    "        print(f\"{self.nb} : {' '.join(['|'] * self.nb + ['_'] * (self.original_nb - self.nb))}\")\n",
    "\n",
    "    def step(self, action) -> Tuple[int, int]:\n",
    "        \"\"\"\n",
    "        Takes an action in the environment.\n",
    "\n",
    "        Args:\n",
    "        action (int): The action to take. It can be 1, 2 or 3.\n",
    "\n",
    "        Returns:\n",
    "        tuple: A tuple consisting of the current state and the reward obtained\n",
    "               by taking the action in the environment.\n",
    "        \"\"\"\n",
    "        self.nb -= action\n",
    "        if self.nb <= 0:\n",
    "            return None, -1\n",
    "        else:\n",
    "            return self.nb, 0"
   ]
  },
  {
   "cell_type": "code",
   "execution_count": 3,
   "id": "f483a29c-c780-4923-b123-278f1bbb7cd7",
   "metadata": {
    "tags": []
   },
   "outputs": [],
   "source": [
    "class StickPlayer(object):\n",
    "    \"\"\"\n",
    "    StickPlayer class representing a player in the Stick Game.\n",
    "    \"\"\"\n",
    "\n",
    "\n",
    "    def __init__(self, is_human, size, trainable=True, name=''):\n",
    "        \"\"\"\n",
    "        Initializes a StickPlayer object.\n",
    "\n",
    "        Args:\n",
    "        is_human (bool): True if the player is human, False otherwise.\n",
    "        size (int): The number of sticks in the game.\n",
    "        trainable (bool, optional): True if the player can be trained, False otherwise. Defaults to True.\n",
    "        name (str, optional): The name of the player. Defaults to ''.\n",
    "        \"\"\"\n",
    "        super(StickPlayer, self).__init__()\n",
    "        self.is_human = is_human\n",
    "        self.history = []\n",
    "        self.V = {}\n",
    "        for s in range(1, size+1):\n",
    "            self.V[s] = 0.\n",
    "        self.win_nb = 0.\n",
    "        self.lose_nb = 0.\n",
    "        self.rewards = []\n",
    "        self.eps = 0.99\n",
    "        self.trainable = trainable\n",
    "        self.name = name\n",
    "\n",
    "    def reset_stat(self):\n",
    "        \"\"\"\n",
    "        Reset the statistics of the player.\n",
    "        \"\"\"\n",
    "        self.win_nb = 0\n",
    "        self.lose_nb = 0\n",
    "        self.rewards = []\n",
    "\n",
    "    def greedy_step(self, state):\n",
    "        \"\"\"\n",
    "        Takes a greedy step based on the current state.\n",
    "\n",
    "        Args:\n",
    "        state (int): The current state.\n",
    "\n",
    "        Returns:\n",
    "        int: The action to take.\n",
    "        \"\"\"\n",
    "        actions = [1, 2, 3]\n",
    "        vmin = None\n",
    "        vi = None\n",
    "        for i in range(0, 3):\n",
    "            a = actions[i]\n",
    "            if state - a > 0 and (vmin is None or vmin > self.V[state - a]):\n",
    "                vmin = self.V[state - a]\n",
    "                vi = i\n",
    "        return actions[vi if vi is not None else 1]\n",
    "\n",
    "    def play(self, state):\n",
    "        \"\"\"\n",
    "        Plays a move based on the current state.\n",
    "\n",
    "        Args:\n",
    "        state (int): The current state.\n",
    "\n",
    "        Returns:\n",
    "        int: The action to take.\n",
    "        \"\"\"\n",
    "        if self.is_human is False:\n",
    "            # Take random action\n",
    "            if random.uniform(0, 1) < self.eps:\n",
    "                action = randint(1, 3)\n",
    "            else: # Or greedy action\n",
    "                action = self.greedy_step(state)\n",
    "        else:\n",
    "            action = int(input(f\"Player {self.name} $>\"))\n",
    "        return action\n",
    "\n",
    "    def add_transition(self, n_tuple):\n",
    "        \"\"\"\n",
    "        Adds a transition to the history of the player.\n",
    "\n",
    "        Args:\n",
    "        n_tuple (tuple): A tuple representing the transition. (s, a , r, s')\n",
    "        \"\"\"\n",
    "        self.history.append(n_tuple)\n",
    "        s, a, r, sp = n_tuple\n",
    "        self.rewards.append(r)\n",
    "\n",
    "    def train(self):\n",
    "        \"\"\"\n",
    "        Trains the player by updating the value function.\n",
    "        \"\"\"\n",
    "        if not self.trainable or self.is_human is True:\n",
    "            return\n",
    "\n",
    "        # Update the value function if this player is not human\n",
    "        for transition in reversed(self.history):\n",
    "            s, a, r, sp = transition\n",
    "            if r == 0:\n",
    "                self.V[s] = self.V[s] + 0.001*(self.V[sp] - self.V[s])\n",
    "            else:\n",
    "                self.V[s] = self.V[s] + 0.001*(r - self.V[s])\n",
    "\n",
    "        self.history = []"
   ]
  },
  {
   "cell_type": "code",
   "execution_count": 4,
   "id": "c6ebe8a1-d6d9-4d89-83fc-905ef51addb2",
   "metadata": {
    "tags": []
   },
   "outputs": [],
   "source": [
    "def play(game, p1, p2, train=True):\n",
    "    \"\"\"\n",
    "    Play a game between two players, with the option to train them.\n",
    "\n",
    "    Args:\n",
    "        game: a game instance that implements the methods `reset`, `is_finished`, `display`, `step`.\n",
    "        p1, p2: two player instances that implement the method `play`.\n",
    "        train: a boolean indicating whether to train the players or not. Defaults to True.\n",
    "\n",
    "    Returns:\n",
    "        None\n",
    "    \"\"\"\n",
    "    state = game.reset() # Get the initial state of the game\n",
    "    players = [p1, p2]\n",
    "    random.shuffle(players) # Randomly select which player goes first\n",
    "    p = 0 # Counter for turns taken\n",
    "    \n",
    "    # Loop until the game is finished\n",
    "    while not game.is_finished():\n",
    "\n",
    "        # If the current player is human, display the game board\n",
    "        if players[p%2].is_human:\n",
    "            game.display()\n",
    "\n",
    "        # Get the action selected by the current player and the resulting state and reward\n",
    "        action = players[p%2].play(state)\n",
    "        n_state, reward = game.step(action)\n",
    "        \n",
    "        # Print out the action taken by the current player if either player is human\n",
    "        if (players[p%2].is_human or players[(p+1)%2].is_human):\n",
    "            print(f\"\\t - Player {players[p%2].name} take {action}\")\n",
    "\n",
    "        # Check if the game is over and update the players' win/loss statistics\n",
    "        if (reward != 0):\n",
    "            # Update stat of the current player\n",
    "            players[p%2].lose_nb += 1. if reward == -1 else 0\n",
    "            players[p%2].win_nb += 1. if reward == 1 else 0\n",
    "            \n",
    "            # Update stat of the other player\n",
    "            players[(p+1)%2].lose_nb += 1. if reward == 1 else 0\n",
    "            players[(p+1)%2].win_nb += 1. if reward == -1 else 0\n",
    "\n",
    "            # Print out the winner if either player is human\n",
    "            if (players[p%2].is_human or players[(p+1)%2].is_human):\n",
    "                print(f\"Player {players[p%2].name if reward == 1 else players[(p+1)%2].name} win! \\n\\n--------------------------\\n\")\n",
    "\n",
    "        # Add the reversed reward and the new state to the other player\n",
    "        if p != 0:\n",
    "            s, a, r, sp = players[(p+1)%2].history[-1]\n",
    "            players[(p+1)%2].history[-1] = (s, a, reward * -1, n_state)\n",
    "        \n",
    "        # Add the current state, action, and reward to the current player's transition history\n",
    "        players[p%2].add_transition((state, action, reward, None))\n",
    "\n",
    "        state = n_state # Update the current state for the next turn\n",
    "        p += 1 # Increment the turn counter\n",
    "    \n",
    "    # Train the players if the train parameter is True\n",
    "    if train:\n",
    "        p1.train()\n",
    "        p2.train()"
   ]
  },
  {
   "cell_type": "code",
   "execution_count": 5,
   "id": "5ff6c5df-1099-4133-b698-86ccd19cb77a",
   "metadata": {},
   "outputs": [],
   "source": [
    "NB_GAMES = 2"
   ]
  },
  {
   "cell_type": "code",
   "execution_count": 6,
   "id": "32bfb622-da83-4b34-a1a6-76d0cb4e28ae",
   "metadata": {
    "tags": []
   },
   "outputs": [
    {
     "name": "stdout",
     "output_type": "stream",
     "text": [
      "1 -0.9875892837196181\n",
      "2 0.8855045321114904\n",
      "3 0.25405435752743033\n",
      "4 0.36849819774566034\n",
      "5 -0.8575859356196484\n",
      "6 0.6780372813101246\n",
      "7 0.07550638220297146\n",
      "8 0.0789650462041864\n",
      "9 -0.6657310523621193\n",
      "10 0.033496591371199744\n",
      "11 0.023265038265168254\n",
      "12 0.45105241964333675\n",
      "--------------------------\n",
      "p1 win rate 0.945\n",
      "p1 win mean -0.0187138482477033\n",
      "--------------------------\n",
      "\t - Player p1 take 3\n",
      "9 : | | | | | | | | | _ _ _\n"
     ]
    },
    {
     "name": "stdin",
     "output_type": "stream",
     "text": [
      "Player human $> 2\n"
     ]
    },
    {
     "name": "stdout",
     "output_type": "stream",
     "text": [
      "\t - Player human take 2\n",
      "\t - Player p1 take 2\n",
      "5 : | | | | | _ _ _ _ _ _ _\n"
     ]
    },
    {
     "name": "stdin",
     "output_type": "stream",
     "text": [
      "Player human $> 1\n"
     ]
    },
    {
     "name": "stdout",
     "output_type": "stream",
     "text": [
      "\t - Player human take 1\n",
      "\t - Player p1 take 3\n",
      "1 : | _ _ _ _ _ _ _ _ _ _ _\n"
     ]
    },
    {
     "name": "stdin",
     "output_type": "stream",
     "text": [
      "Player human $> 1\n"
     ]
    },
    {
     "name": "stdout",
     "output_type": "stream",
     "text": [
      "\t - Player human take 1\n",
      "Player p1 win! \n",
      "\n",
      "--------------------------\n",
      "\n",
      "12 : | | | | | | | | | | | |\n"
     ]
    },
    {
     "name": "stdin",
     "output_type": "stream",
     "text": [
      "Player human $> 3\n"
     ]
    },
    {
     "name": "stdout",
     "output_type": "stream",
     "text": [
      "\t - Player human take 3\n",
      "\t - Player p1 take 1\n",
      "8 : | | | | | | | | _ _ _ _\n"
     ]
    },
    {
     "name": "stdin",
     "output_type": "stream",
     "text": [
      "Player human $> 3\n"
     ]
    },
    {
     "name": "stdout",
     "output_type": "stream",
     "text": [
      "\t - Player human take 3\n",
      "\t - Player p1 take 2\n",
      "3 : | | | _ _ _ _ _ _ _ _ _\n"
     ]
    },
    {
     "name": "stdin",
     "output_type": "stream",
     "text": [
      "Player human $> 2\n"
     ]
    },
    {
     "name": "stdout",
     "output_type": "stream",
     "text": [
      "\t - Player human take 2\n",
      "\t - Player p1 take 2\n",
      "Player human win! \n",
      "\n",
      "--------------------------\n",
      "\n"
     ]
    }
   ],
   "source": [
    "game = StickGame(12)\n",
    "\n",
    "# PLayers to train\n",
    "p1 = StickPlayer(is_human=False, size=12, trainable=True, name=\"p1\")\n",
    "p2 = StickPlayer(is_human=False, size=12, trainable=True, name=\"p2\")\n",
    "# Human player and random player\n",
    "human = StickPlayer(is_human=True, size=12, trainable=False, name=\"human\")\n",
    "random_player = StickPlayer(is_human=False, size=12, trainable=False, name=\"random\")\n",
    "\n",
    "# Train the agent\n",
    "for i in range(0, 10000):\n",
    "    if i % 10 == 0:\n",
    "        p1.eps = max(p1.eps*0.996, 0.05)\n",
    "        p2.eps = max(p2.eps*0.996, 0.05)\n",
    "    play(game, p1, p2)\n",
    "p1.reset_stat()\n",
    "\n",
    "# Display the value function\n",
    "for key in p1.V:\n",
    "    print(key, p1.V[key])\n",
    "print(\"--------------------------\")\n",
    "\n",
    "# Play agains a random player\n",
    "for _ in range(0, 1000):\n",
    "    play(game, p1, random_player, train=False)\n",
    "print(\"p1 win rate\", p1.win_nb/(p1.win_nb + p1.lose_nb))\n",
    "print(\"p1 win mean\", np.mean(p1.rewards))\n",
    "print(\"--------------------------\")\n",
    "# Play agains us\n",
    "nb_games = NB_GAMES\n",
    "while nb_games > 0:\n",
    "    play(game, p1, human, train=False)\n",
    "    nb_games -= 1"
   ]
  },
  {
   "cell_type": "markdown",
   "id": "c221e237-a2e5-415f-8c99-7ebe38440550",
   "metadata": {},
   "source": [
    "## Explanation\n",
    "La value function calcule la reward possible en fonction de l'état dans lequel on va être,\n",
    "ici on cherche donc à atteindre la plus petite valeur après chaque action afin de mettre en difficulté l'adversaire.\n",
    "\n",
    "Pour un jeux avec une taille de 12 baton, \n",
    "on observe que les états 9, 5, 1 sont des états perdants,\n",
    "ainsi l'algorithme va chercher à effecter une action pour atteindre ces états."
   ]
  },
  {
   "cell_type": "code",
   "execution_count": null,
   "id": "bb5cb056-bc82-43d6-9642-fce322a35a1b",
   "metadata": {},
   "outputs": [],
   "source": []
  }
 ],
 "metadata": {
  "kernelspec": {
   "display_name": "Python 3 (ipykernel)",
   "language": "python",
   "name": "python3"
  },
  "language_info": {
   "codemirror_mode": {
    "name": "ipython",
    "version": 3
   },
   "file_extension": ".py",
   "mimetype": "text/x-python",
   "name": "python",
   "nbconvert_exporter": "python",
   "pygments_lexer": "ipython3",
   "version": "3.11.2"
  }
 },
 "nbformat": 4,
 "nbformat_minor": 5
}
