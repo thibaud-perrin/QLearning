{
 "cells": [
  {
   "cell_type": "code",
   "execution_count": 1,
   "id": "6beee287-d6ba-413a-bad5-4d54cd278b1b",
   "metadata": {},
   "outputs": [],
   "source": [
    "import numpy as np\n",
    "from random import randint\n",
    "import random"
   ]
  },
  {
   "cell_type": "code",
   "execution_count": 2,
   "id": "705143a7-c6eb-4290-9dc8-8205aa69e598",
   "metadata": {},
   "outputs": [],
   "source": [
    "class EnvGrid(object):\n",
    "    \"\"\"\n",
    "    Class representing a grid world environment\n",
    "    \"\"\"\n",
    "    def __init__(self):\n",
    "        \"\"\"\n",
    "        Constructor for EnvGrid class\n",
    "\n",
    "        Initializes the environment grid, starting position, and action list\n",
    "        \"\"\"\n",
    "        super(EnvGrid, self).__init__()\n",
    "\n",
    "        self.grid = [\n",
    "            [0, 0, 1],\n",
    "            [0, -1, 0],\n",
    "            [0, 0, 0]\n",
    "        ]\n",
    "        # Starting position\n",
    "        self.y = 2\n",
    "        self.x = 0\n",
    "\n",
    "        self.actions = [\n",
    "            [-1, 0], # Up\n",
    "            [1, 0], #Down\n",
    "            [0, -1], # Left\n",
    "            [0, 1] # Right\n",
    "        ]\n",
    "\n",
    "    def reset(self):\n",
    "        \"\"\"\n",
    "        Resets the environment to its initial state\n",
    "\n",
    "        Returns:\n",
    "            The index of the initial state in the grid\n",
    "        \"\"\"\n",
    "        self.y = 2\n",
    "        self.x = 0\n",
    "        return (self.y * 3 + self.x + 1)\n",
    "\n",
    "    def step(self, action):\n",
    "        \n",
    "        \"\"\"\n",
    "        Takes a step in the environment given an action\n",
    "\n",
    "        Args:\n",
    "            action (int): The index of the action to take [0, 1, 2, 3]\n",
    "\n",
    "        Returns:\n",
    "            A tuple containing the index of the new state and the reward for that state\n",
    "        \"\"\"\n",
    "        self.y = max(0, min(self.y + self.actions[action][0], 2))\n",
    "        self.x = max(0, min(self.x + self.actions[action][1], 2))\n",
    "\n",
    "        return (self.y * 3 + self.x + 1), self.grid[self.y][self.x]\n",
    "\n",
    "    def show(self):\n",
    "        \"\"\"\n",
    "        Prints the current state of the environment grid\n",
    "        \"\"\"\n",
    "        print(\"---------------------\")\n",
    "        y = 0\n",
    "        for line in self.grid:\n",
    "            x = 0\n",
    "            for pt in line:\n",
    "                print(\"%s\\t\" % (pt if y != self.y or x != self.x else \"X\"), end=\"\")\n",
    "                x += 1\n",
    "            y += 1\n",
    "            print(\"\")\n",
    "\n",
    "    def is_finished(self):\n",
    "        \"\"\"\n",
    "        Checks if the current state is a terminal state\n",
    "\n",
    "        Returns:\n",
    "            True if the current state is a terminal state, False otherwise\n",
    "        \"\"\"\n",
    "        return self.grid[self.y][self.x] == 1"
   ]
  },
  {
   "cell_type": "code",
   "execution_count": 3,
   "id": "653eade0-f773-42c0-a72d-16acf49a366b",
   "metadata": {},
   "outputs": [],
   "source": [
    "def take_action(st, Q, eps):\n",
    "    # Take an action\n",
    "    if random.uniform(0, 1) < eps:\n",
    "        action = randint(0, 3)\n",
    "    else: # Or greedy action\n",
    "        action = np.argmax(Q[st])\n",
    "    return action"
   ]
  },
  {
   "cell_type": "code",
   "execution_count": 4,
   "id": "b879c641-55d3-4ca6-bb83-42ca1b06ecfd",
   "metadata": {
    "tags": []
   },
   "outputs": [],
   "source": [
    "class color:\n",
    "    PURPLE = '\\033[95m'\n",
    "    CYAN = '\\033[96m'\n",
    "    DARKCYAN = '\\033[36m'\n",
    "    BLUE = '\\033[94m'\n",
    "    GREEN = '\\033[92m'\n",
    "    YELLOW = '\\033[93m'\n",
    "    RED = '\\033[91m'\n",
    "    BOLD = '\\033[1m'\n",
    "    UNDERLINE = '\\033[4m'\n",
    "    END = '\\033[0m'"
   ]
  },
  {
   "cell_type": "code",
   "execution_count": 5,
   "id": "31c34a12-d541-4636-92c7-33f027e52211",
   "metadata": {
    "tags": []
   },
   "outputs": [],
   "source": [
    "def display(v, l):\n",
    "    if v == max(l) and v > 0:\n",
    "        return color.BOLD + color.BLUE + str(round(v, 5)).ljust(10) + color.END\n",
    "    elif v < 0:\n",
    "        return color.BOLD + color.RED + str(round(v, 5)).ljust(10) + color.END\n",
    "    else:\n",
    "        return str(round(v, 10)).ljust(15)"
   ]
  },
  {
   "cell_type": "markdown",
   "id": "7a5a99e9-9e29-44c5-9f01-e059ba6f279f",
   "metadata": {},
   "source": [
    "## Manual"
   ]
  },
  {
   "cell_type": "code",
   "execution_count": 6,
   "id": "18e117e2-69a3-44e9-b9d8-71d357028eb5",
   "metadata": {},
   "outputs": [
    {
     "name": "stdout",
     "output_type": "stream",
     "text": [
      "---------------------\n",
      "0\t0\t1\t\n",
      "0\t-1\t0\t\n",
      "X\t0\t0\t\n"
     ]
    },
    {
     "name": "stdin",
     "output_type": "stream",
     "text": [
      "$> 3\n"
     ]
    },
    {
     "name": "stdout",
     "output_type": "stream",
     "text": [
      "s 8\n",
      "r 0\n",
      "---------------------\n",
      "0\t0\t1\t\n",
      "0\t-1\t0\t\n",
      "0\tX\t0\t\n"
     ]
    },
    {
     "name": "stdin",
     "output_type": "stream",
     "text": [
      "$> 0\n"
     ]
    },
    {
     "name": "stdout",
     "output_type": "stream",
     "text": [
      "s 5\n",
      "r -1\n",
      "---------------------\n",
      "0\t0\t1\t\n",
      "0\tX\t0\t\n",
      "0\t0\t0\t\n"
     ]
    },
    {
     "name": "stdin",
     "output_type": "stream",
     "text": [
      "$> 3\n"
     ]
    },
    {
     "name": "stdout",
     "output_type": "stream",
     "text": [
      "s 6\n",
      "r 0\n",
      "---------------------\n",
      "0\t0\t1\t\n",
      "0\t-1\tX\t\n",
      "0\t0\t0\t\n"
     ]
    },
    {
     "name": "stdin",
     "output_type": "stream",
     "text": [
      "$> 3\n"
     ]
    },
    {
     "name": "stdout",
     "output_type": "stream",
     "text": [
      "s 6\n",
      "r 0\n",
      "---------------------\n",
      "0\t0\t1\t\n",
      "0\t-1\tX\t\n",
      "0\t0\t0\t\n"
     ]
    },
    {
     "name": "stdin",
     "output_type": "stream",
     "text": [
      "$> 0\n"
     ]
    },
    {
     "name": "stdout",
     "output_type": "stream",
     "text": [
      "s 3\n",
      "r 1\n",
      "S  │  Haut      \t│\tBas       \t│\tGauche    \t│\tDroite    \n",
      "───────────────────────────────────────────────────────────────────────────────────────────────\n",
      "1  │  0              \t│\t0              \t│\t0              \t│\t0              \n",
      "2  │  0              \t│\t0              \t│\t0              \t│\t0              \n",
      "3  │  0              \t│\t0              \t│\t0              \t│\t0              \n",
      "4  │  0              \t│\t0              \t│\t0              \t│\t0              \n",
      "5  │  0              \t│\t0              \t│\t0              \t│\t0.0            \n",
      "6  │  \u001b[1m\u001b[94m0.1       \u001b[0m\t│\t0              \t│\t0              \t│\t0.0            \n",
      "7  │  0              \t│\t0              \t│\t0              \t│\t0.0            \n",
      "8  │  \u001b[1m\u001b[91m-0.1      \u001b[0m\t│\t0              \t│\t0              \t│\t0              \n",
      "9  │  0              \t│\t0              \t│\t0              \t│\t0              \n"
     ]
    }
   ],
   "source": [
    "env = EnvGrid()\n",
    "st = env.reset()\n",
    "\n",
    "Q = [\n",
    "    [0, 0, 0, 0],\n",
    "    [0, 0, 0, 0],\n",
    "    [0, 0, 0, 0],\n",
    "    [0, 0, 0, 0],\n",
    "    [0, 0, 0, 0],\n",
    "    [0, 0, 0, 0],\n",
    "    [0, 0, 0, 0],\n",
    "    [0, 0, 0, 0],\n",
    "    [0, 0, 0, 0],\n",
    "    [0, 0, 0, 0]\n",
    "]\n",
    "\n",
    "for _ in range(1):\n",
    "    # Reset the game\n",
    "    st = env.reset()\n",
    "    while not env.is_finished():\n",
    "        env.show()\n",
    "        at = int(input(\"$>\"))\n",
    "        # at = take_action(st, Q, 0.4)\n",
    "\n",
    "        stp1, r = env.step(at)\n",
    "        print(\"s\", stp1)\n",
    "        print(\"r\", r)\n",
    "\n",
    "        # Update Q function\n",
    "        atp1 = take_action(stp1, Q, 0.0)\n",
    "        Q[st][at] = Q[st][at] + 0.1*(r + 0.9*Q[stp1][atp1] - Q[st][at])\n",
    "\n",
    "        st = stp1\n",
    "\n",
    "print('S  │ ', '\\t│\\t'.join(a.ljust(10) for a in ['Haut', 'Bas', 'Gauche', 'Droite']))\n",
    "print('─' * 95)\n",
    "for s in range(1, 10):\n",
    "    print(s, ' │ ', '\\t│\\t'.join(display(q, Q[s]) for q in Q[s]))"
   ]
  },
  {
   "cell_type": "markdown",
   "id": "4f093385-200d-42ec-987a-a05e6f491931",
   "metadata": {
    "tags": []
   },
   "source": [
    "## Automatique"
   ]
  },
  {
   "cell_type": "code",
   "execution_count": 7,
   "id": "1a79e5ce-f03f-4b61-8a36-e2655f46965f",
   "metadata": {
    "tags": []
   },
   "outputs": [
    {
     "name": "stdout",
     "output_type": "stream",
     "text": [
      "S  │  Haut      \t│\tBas       \t│\tGauche    \t│\tDroite    \n",
      "───────────────────────────────────────────────────────────────────────────────────────────────\n",
      "1  │  0.8099996648   \t│\t0.7289986744   \t│\t0.809998279    \t│\t\u001b[1m\u001b[94m0.9       \u001b[0m\n",
      "2  │  0.899997296    \t│\t\u001b[1m\u001b[91m-0.19     \u001b[0m\t│\t0.8099977884   \t│\t\u001b[1m\u001b[94m1.0       \u001b[0m\n",
      "3  │  0              \t│\t0              \t│\t0              \t│\t0              \n",
      "4  │  \u001b[1m\u001b[94m0.81      \u001b[0m\t│\t0.656099794    \t│\t0.7289995338   \t│\t\u001b[1m\u001b[91m-0.19     \u001b[0m\n",
      "5  │  \u001b[1m\u001b[94m0.9       \u001b[0m\t│\t0.5698937736   \t│\t0.6899646662   \t│\t0.7708647676   \n",
      "6  │  \u001b[1m\u001b[94m0.99427   \u001b[0m\t│\t0.1465617595   \t│\t\u001b[1m\u001b[91m-0.09039  \u001b[0m\t│\t0.2181532831   \n",
      "7  │  \u001b[1m\u001b[94m0.729     \u001b[0m\t│\t0.6560999484   \t│\t0.6560998985   \t│\t0.5904899121   \n",
      "8  │  \u001b[1m\u001b[91m-0.18309  \u001b[0m\t│\t0.5492748246   \t│\t\u001b[1m\u001b[94m0.6561    \u001b[0m\t│\t0.5981345405   \n",
      "9  │  \u001b[1m\u001b[94m0.81588   \u001b[0m\t│\t0.271690413    \t│\t0.2029829493   \t│\t0.3758775497   \n"
     ]
    }
   ],
   "source": [
    "env = EnvGrid()\n",
    "st = env.reset()\n",
    "\n",
    "Q = [\n",
    "    [0, 0, 0, 0],\n",
    "    [0, 0, 0, 0],\n",
    "    [0, 0, 0, 0],\n",
    "    [0, 0, 0, 0],\n",
    "    [0, 0, 0, 0],\n",
    "    [0, 0, 0, 0],\n",
    "    [0, 0, 0, 0],\n",
    "    [0, 0, 0, 0],\n",
    "    [0, 0, 0, 0],\n",
    "    [0, 0, 0, 0]\n",
    "]\n",
    "\n",
    "for _ in range(1000):\n",
    "    # Reset the game\n",
    "    st = env.reset()\n",
    "    while not env.is_finished():\n",
    "        at = take_action(st, Q, 0.4)\n",
    "\n",
    "        stp1, r = env.step(at)\n",
    "\n",
    "        # Update Q function\n",
    "        atp1 = take_action(stp1, Q, 0.0)\n",
    "        Q[st][at] = Q[st][at] + 0.1*(r + 0.9*Q[stp1][atp1] - Q[st][at])\n",
    "\n",
    "        st = stp1\n",
    "\n",
    "print('S  │ ', '\\t│\\t'.join(a.ljust(10) for a in ['Haut', 'Bas', 'Gauche', 'Droite']))\n",
    "print('─' * 95)\n",
    "for s in range(1, 10):\n",
    "    print(s, ' │ ', '\\t│\\t'.join(display(q, Q[s]) for q in Q[s]))"
   ]
  },
  {
   "cell_type": "markdown",
   "id": "157b6e10-c7f0-4d2e-a2af-ef4411f94160",
   "metadata": {},
   "source": [
    "### Explenation\n",
    "we can see the best action to do in each state: exemple in the first state (top left case 0, 0) we have to go to the right in order to try to win.\n",
    "There are also four negative values. These correspond to the actions leading to the negative reward from one of these adjacent squares"
   ]
  },
  {
   "cell_type": "code",
   "execution_count": null,
   "id": "3803ca75-b05a-476a-80ba-42e8909dc8e6",
   "metadata": {},
   "outputs": [],
   "source": []
  }
 ],
 "metadata": {
  "kernelspec": {
   "display_name": "Python 3 (ipykernel)",
   "language": "python",
   "name": "python3"
  },
  "language_info": {
   "codemirror_mode": {
    "name": "ipython",
    "version": 3
   },
   "file_extension": ".py",
   "mimetype": "text/x-python",
   "name": "python",
   "nbconvert_exporter": "python",
   "pygments_lexer": "ipython3",
   "version": "3.11.2"
  }
 },
 "nbformat": 4,
 "nbformat_minor": 5
}
